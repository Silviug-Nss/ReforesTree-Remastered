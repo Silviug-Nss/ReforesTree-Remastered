{
 "cells": [
  {
   "cell_type": "markdown",
   "metadata": {},
   "source": [
    "# Matching algorithm\n",
    "In this notebook, we present the OneForest matching algorithm and use it to match tree detections to field data measurements"
   ]
  },
  {
   "cell_type": "code",
   "execution_count": 2,
   "metadata": {},
   "outputs": [],
   "source": [
    "import os\n",
    "\n",
    "import numpy as np\n",
    "import pandas as pd\n",
    "from tqdm import tqdm\n",
    "import ot\n",
    "\n",
    "from src import (\n",
    "    MatchedFieldData,\n",
    "    ImagesRegistry,\n",
    "    FieldDataRegistry,\n",
    "    OrthomosaicGps,\n",
    "    SiteShape,\n",
    "    DeepForestDetectionRegistry,\n",
    "    calculate_ot_map,\n",
    "    match_detections_to_field_data\n",
    ")\n",
    "\n",
    "OUTPUT_DIR: str = \"./data/mappings\""
   ]
  },
  {
   "cell_type": "markdown",
   "metadata": {},
   "source": [
    "Load data and metadata registries"
   ]
  },
  {
   "cell_type": "code",
   "execution_count": null,
   "metadata": {},
   "outputs": [],
   "source": [
    "field_data_registry = FieldDataRegistry()\n",
    "deepforest_detection_registry = DeepForestDetectionRegistry()\n",
    "orthomosaic_names = ImagesRegistry().get_orthomosaic_names()\n",
    "ortho_gps = OrthomosaicGps()\n",
    "site_shape = SiteShape()"
   ]
  },
  {
   "cell_type": "markdown",
   "metadata": {},
   "source": [
    "## Define otimal transport algorithm"
   ]
  },
  {
   "cell_type": "code",
   "execution_count": null,
   "metadata": {},
   "outputs": [],
   "source": [
    "ot_func = ot.bregman.sinkhorn"
   ]
  },
  {
   "cell_type": "code",
   "execution_count": null,
   "metadata": {},
   "outputs": [],
   "source": [
    "def load_field_data_and_deepforest_detections(orthomosaic_name):\n",
    "    field_data = field_data_registry.get_field_data_for_image(orthomosaic_name)\n",
    "    deepforest_detections = deepforest_detection_registry.load_detections_for_image(orthomosaic_name)\n",
    "    return field_data, deepforest_detections\n"
   ]
  },
  {
   "cell_type": "code",
   "execution_count": null,
   "metadata": {},
   "outputs": [],
   "source": [
    "def filter_out_of_site_detections(\n",
    "    field_data, deepforest_detections_unfiltered,\n",
    "    ortho_gps, orthomosaic_name,\n",
    "    dilation_step = 0.0001\n",
    ")\n",
    "    ortho_gps.set_orthomosaic_name(orthomosaic_name)\n",
    "    num_field_data = len(field_data)\n",
    "    num_detections, dilation = 0, 0\n",
    "    while num_detections < num_field_data:\n",
    "        filtered_detections = []\n",
    "        site_shape.set_dilation(dilation)\n",
    "        for detection in deepforest_detections_unfiltered:\n",
    "            detection_x = (detection.xmax + detection.xmin) / 2\n",
    "            detection_y = (detection.ymax + detection.ymin) / 2\n",
    "            detection_lon, detection_lat = ortho_gps.calculate_x_y_to_lon_lat(detection_x, detection_y, True)\n",
    "            if site_shape.is_in_site(orthomosaic_name, detection_lon, detection_lat):\n",
    "                filtered_detections.append(detection)\n",
    "        num_detections = len(filtered_detections)\n",
    "        dilation += dilation_step\n",
    "        print(f\"Dilation = {dilation}\")\n",
    "        print(\"====================\")\n",
    "        print(f\"Number of detections = {num_detections}\")\n",
    "        print(f\"Number of field data = {num_field_data}\")\n",
    "    return filtered_detections"
   ]
  },
  {
   "cell_type": "code",
   "execution_count": null,
   "metadata": {},
   "outputs": [],
   "source": [
    "def match_field_data_and_detections(detections, field_data, mu, greedy):\n",
    "    matched_detections = []\n",
    "    num_detections = len(detections)\n",
    "    num_field_data = len(field_data)\n",
    "    # Extract tree detection data for OT\n",
    "    detection_coord = np.zeros((num_detections, 2))\n",
    "    detection_proba = np.zeros((num_detections, 1))\n",
    "    for i, detection in enumerate(detections):\n",
    "        detection_x = (detection.xmax + detection.xmin) / 2\n",
    "        detection_y = (detection.ymax + detection.ymin) / 2\n",
    "        detection_coord[i, 0], detection_coord[i, 1] = detection_x, detection_y\n",
    "        detection_proba[i] = detection.score\n",
    "    # Extract field data for OT\n",
    "    field_data_coord = np.zeros((num_field_data, 2))\n",
    "    field_data_proba = np.ones((num_field_data, 1))\n",
    "    for i, row in enumerate(field_data):\n",
    "        lon, lat = row.lon, row.lat\n",
    "        field_data_x, field_data_y = ortho_gps.calculate_lon_lat_to_x_y(lon, lat, True)\n",
    "        field_data_coord[i, 0], field_data_coord[i, 1] = field_data_x, field_data_y\n",
    "    # Optimal transport\n",
    "    ot_plan = calculate_ot_map(ot_func, detection_coord, field_data_coord, detection_proba, field_data_proba, mu)\n",
    "    matched_detections.extend(match_detections_to_field_data(\n",
    "        detections,\n",
    "        field_data, ot_plan, greedy\n",
    "    ))\n",
    "    return matched_detections"
   ]
  },
  {
   "cell_type": "markdown",
   "metadata": {},
   "source": [
    "## Match detections to field measurements"
   ]
  },
  {
   "cell_type": "code",
   "execution_count": null,
   "metadata": {},
   "outputs": [],
   "source": [
    "use_out_of_site_filter = True\n",
    "mu = 0.5\n",
    "greedy = True\n",
    "\n",
    "matched_detections = []\n",
    "for orthomosaic_name in tqdm(orthomosaic_names):\n",
    "    print(f\"Matching on: {orthomosaic_name}\")\n",
    "    cur_field_data, cur_detections = load_field_data_and_deepforest_detections(orthomosaic_name)\n",
    "    if use_out_of_site_filter:\n",
    "        cur_detections = filter_out_of_site_detections(cur_field_data, cur_detections, ortho_gps, orthomosaic_name)\n",
    "    matched_detections(match_field_data_and_detections(cur_detections, cur_field_data, mu, greedy))\n"
   ]
  },
  {
   "cell_type": "markdown",
   "metadata": {},
   "source": [
    "Save matches"
   ]
  },
  {
   "cell_type": "code",
   "execution_count": null,
   "metadata": {},
   "outputs": [],
   "source": [
    "matched_detections_df = pd.DataFrame.from_dict([MatchedFieldData.to_dict(d) for d in matched_detections])\n",
    "csv_filename = \"reproduced_final_matching.csv\"\n",
    "csv_filepath = os.path.join(OUTPUT_DIR, csv_filename)\n",
    "matched_detections_df.to_csv(csv_filepath)"
   ]
  },
  {
   "cell_type": "code",
   "execution_count": null,
   "metadata": {},
   "outputs": [],
   "source": []
  }
 ],
 "metadata": {
  "kernelspec": {
   "display_name": "Python 3.6.8 64-bit",
   "language": "python",
   "name": "python3"
  },
  "language_info": {
   "codemirror_mode": {
    "name": "ipython",
    "version": 3
   },
   "file_extension": ".py",
   "mimetype": "text/x-python",
   "name": "python",
   "nbconvert_exporter": "python",
   "pygments_lexer": "ipython3",
   "version": "3.6.8"
  },
  "orig_nbformat": 4,
  "vscode": {
   "interpreter": {
    "hash": "949777d72b0d2535278d3dc13498b2535136f6dfe0678499012e853ee9abcab1"
   }
  }
 },
 "nbformat": 4,
 "nbformat_minor": 2
}
