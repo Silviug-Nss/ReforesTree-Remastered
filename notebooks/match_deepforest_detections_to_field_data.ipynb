{
 "cells": [
  {
   "cell_type": "markdown",
   "metadata": {},
   "source": [
    "# Matching algorithm\n",
    "In this notebook, we present the OneForest matching algorithm and use it to match tree detections to field data measurements"
   ]
  },
  {
   "cell_type": "code",
   "execution_count": 1,
   "metadata": {},
   "outputs": [],
   "source": [
    "import os\n",
    "\n",
    "import numpy as np\n",
    "import pandas as pd\n",
    "import ot\n",
    "\n",
    "from src import (\n",
    "    MatchedFieldData,\n",
    "    ImagesRegistry,\n",
    "    FieldDataRegistry,\n",
    "    OrthomosaicGps,\n",
    "    SiteShape,\n",
    "    DeepForestDetectionRegistry,\n",
    "    calculate_ot_map,\n",
    "    match_detections_to_field_data\n",
    ")\n",
    "\n",
    "DEEPFOREST_DETECTIONS_DIR = \"../data/processed/predicted_bbox/\"\n",
    "FIELD_DATA_FILEPATH = \"../data/raw/field_data.csv\"\n",
    "ANNOTATIONS_FILEPATH = \"../data/raw/annotations/all_annotations.csv\"\n",
    "GPS_DATA = \"../data/raw/ortho_data.csv\"\n",
    "SITE_SHAPEFILE = \"../data/raw/Merged_final_plots/Merged_final_plots.shp\"\n",
    "OUTPUT_DIR: str = \"../data/processed/mappings\""
   ]
  },
  {
   "cell_type": "markdown",
   "metadata": {},
   "source": [
    "Load data and metadata registries"
   ]
  },
  {
   "cell_type": "code",
   "execution_count": 2,
   "metadata": {},
   "outputs": [],
   "source": [
    "field_data_registry = FieldDataRegistry(FIELD_DATA_FILEPATH)\n",
    "deepforest_detection_registry = DeepForestDetectionRegistry(DEEPFOREST_DETECTIONS_DIR)  # To use hand annotated bounding boxes, use src.tree_detection.HandAnnotatedDetectionRegistry instead\n",
    "orthomosaic_names = ImagesRegistry(ANNOTATIONS_FILEPATH).get_orthomosaic_names()\n",
    "ortho_gps = OrthomosaicGps(GPS_DATA)\n",
    "site_shape = SiteShape(SITE_SHAPEFILE)"
   ]
  },
  {
   "cell_type": "markdown",
   "metadata": {},
   "source": [
    "## Define otimal transport algorithm"
   ]
  },
  {
   "cell_type": "code",
   "execution_count": 3,
   "metadata": {},
   "outputs": [],
   "source": [
    "ot_func = ot.bregman.sinkhorn"
   ]
  },
  {
   "cell_type": "code",
   "execution_count": 4,
   "metadata": {},
   "outputs": [],
   "source": [
    "def load_field_data_and_deepforest_detections(orthomosaic_name):\n",
    "    field_data = field_data_registry.get_field_data_for_image(orthomosaic_name)\n",
    "    deepforest_detections = deepforest_detection_registry.load_detections_for_image(orthomosaic_name)\n",
    "    return field_data, deepforest_detections\n"
   ]
  },
  {
   "cell_type": "code",
   "execution_count": 6,
   "metadata": {},
   "outputs": [],
   "source": [
    "def filter_out_of_site_detections(\n",
    "    field_data, deepforest_detections_unfiltered,\n",
    "    ortho_gps, orthomosaic_name,\n",
    "    dilation_step = 0.0001\n",
    "):\n",
    "    ortho_gps.set_orthomosaic_name(orthomosaic_name)\n",
    "    num_field_data = len(field_data)\n",
    "    num_detections, dilation = 0, 0\n",
    "    while num_detections < num_field_data:\n",
    "        filtered_detections = []\n",
    "        site_shape.set_dilation(dilation)\n",
    "        for detection in deepforest_detections_unfiltered:\n",
    "            detection_x = (detection.xmax + detection.xmin) / 2\n",
    "            detection_y = (detection.ymax + detection.ymin) / 2\n",
    "            detection_lon, detection_lat = ortho_gps.calculate_x_y_to_lon_lat(detection_x, detection_y, True)\n",
    "            if site_shape.is_in_site(orthomosaic_name, detection_lon, detection_lat):\n",
    "                filtered_detections.append(detection)\n",
    "        num_detections = len(filtered_detections)\n",
    "        dilation += dilation_step\n",
    "        print(f\"Dilation = {dilation}\")\n",
    "        print(\"====================\")\n",
    "        print(f\"Number of detections = {num_detections}\")\n",
    "        print(f\"Number of field data = {num_field_data}\")\n",
    "    return filtered_detections"
   ]
  },
  {
   "cell_type": "code",
   "execution_count": 7,
   "metadata": {},
   "outputs": [],
   "source": [
    "def match_field_data_and_detections(detections, field_data, mu, greedy):\n",
    "    matched_detections = []\n",
    "    num_detections = len(detections)\n",
    "    num_field_data = len(field_data)\n",
    "    # Extract tree detection data for OT\n",
    "    detection_coord = np.zeros((num_detections, 2))\n",
    "    detection_proba = np.zeros((num_detections, 1))\n",
    "    for i, detection in enumerate(detections):\n",
    "        detection_x = (detection.xmax + detection.xmin) / 2\n",
    "        detection_y = (detection.ymax + detection.ymin) / 2\n",
    "        detection_coord[i, 0], detection_coord[i, 1] = detection_x, detection_y\n",
    "        detection_proba[i] = detection.score\n",
    "    # Extract field data for OT\n",
    "    field_data_coord = np.zeros((num_field_data, 2))\n",
    "    field_data_proba = np.ones((num_field_data, 1))\n",
    "    for i, row in enumerate(field_data):\n",
    "        lon, lat = row.lon, row.lat\n",
    "        field_data_x, field_data_y = ortho_gps.calculate_lon_lat_to_x_y(lon, lat, True)\n",
    "        field_data_coord[i, 0], field_data_coord[i, 1] = field_data_x, field_data_y\n",
    "    # Optimal transport\n",
    "    ot_plan = calculate_ot_map(ot_func, detection_coord, field_data_coord, detection_proba, field_data_proba, mu)\n",
    "    matched_detections.extend(match_detections_to_field_data(\n",
    "        detections,\n",
    "        field_data, ot_plan, greedy\n",
    "    ))\n",
    "    return matched_detections"
   ]
  },
  {
   "cell_type": "markdown",
   "metadata": {},
   "source": [
    "## Match detections to field measurements"
   ]
  },
  {
   "cell_type": "code",
   "execution_count": 9,
   "metadata": {},
   "outputs": [
    {
     "name": "stdout",
     "output_type": "stream",
     "text": [
      "Matching on: Nestor Macias RGB\n",
      "Dilation = 0.0001\n",
      "====================\n",
      "Number of detections = 394\n",
      "Number of field data = 872\n",
      "Dilation = 0.0002\n",
      "====================\n",
      "Number of detections = 675\n",
      "Number of field data = 872\n",
      "Dilation = 0.00030000000000000003\n",
      "====================\n",
      "Number of detections = 982\n",
      "Number of field data = 872\n",
      "Number of detection: 872\n",
      "Number of field data measurements: 872\n",
      "Number of unique matches: 872\n",
      "Matching on: Leonor Aspiazu RGB\n",
      "Dilation = 0.0001\n",
      "====================\n",
      "Number of detections = 322\n",
      "Number of field data = 789\n",
      "Dilation = 0.0002\n",
      "====================\n",
      "Number of detections = 544\n",
      "Number of field data = 789\n",
      "Dilation = 0.00030000000000000003\n",
      "====================\n",
      "Number of detections = 798\n",
      "Number of field data = 789\n",
      "Number of detection: 789\n",
      "Number of field data measurements: 789\n",
      "Number of unique matches: 789\n",
      "Matching on: Carlos Vera Arteaga RGB\n",
      "Dilation = 0.0001\n",
      "====================\n",
      "Number of detections = 250\n",
      "Number of field data = 743\n",
      "Dilation = 0.0002\n",
      "====================\n",
      "Number of detections = 395\n",
      "Number of field data = 743\n",
      "Dilation = 0.00030000000000000003\n",
      "====================\n",
      "Number of detections = 607\n",
      "Number of field data = 743\n",
      "Dilation = 0.0004\n",
      "====================\n",
      "Number of detections = 766\n",
      "Number of field data = 743\n",
      "Number of detection: 743\n",
      "Number of field data measurements: 743\n",
      "Number of unique matches: 743\n",
      "Matching on: Flora Pluas RGB\n",
      "Dilation = 0.0001\n",
      "====================\n",
      "Number of detections = 375\n",
      "Number of field data = 846\n",
      "Dilation = 0.0002\n",
      "====================\n",
      "Number of detections = 708\n",
      "Number of field data = 846\n",
      "Dilation = 0.00030000000000000003\n",
      "====================\n",
      "Number of detections = 1129\n",
      "Number of field data = 846\n",
      "Number of detection: 846\n",
      "Number of field data measurements: 846\n",
      "Number of unique matches: 846\n",
      "Matching on: Carlos Vera Guevara RGB\n",
      "Dilation = 0.0001\n",
      "====================\n",
      "Number of detections = 378\n",
      "Number of field data = 929\n",
      "Dilation = 0.0002\n",
      "====================\n",
      "Number of detections = 599\n",
      "Number of field data = 929\n",
      "Dilation = 0.00030000000000000003\n",
      "====================\n",
      "Number of detections = 805\n",
      "Number of field data = 929\n",
      "Dilation = 0.0004\n",
      "====================\n",
      "Number of detections = 830\n",
      "Number of field data = 929\n",
      "Dilation = 0.0005\n",
      "====================\n",
      "Number of detections = 805\n",
      "Number of field data = 929\n",
      "Dilation = 0.0006000000000000001\n",
      "====================\n",
      "Number of detections = 777\n",
      "Number of field data = 929\n",
      "Dilation = 0.0007000000000000001\n",
      "====================\n",
      "Number of detections = 728\n",
      "Number of field data = 929\n",
      "Dilation = 0.0008000000000000001\n",
      "====================\n",
      "Number of detections = 667\n",
      "Number of field data = 929\n",
      "Dilation = 0.0009000000000000002\n",
      "====================\n",
      "Number of detections = 596\n",
      "Number of field data = 929\n",
      "Dilation = 0.0010000000000000002\n",
      "====================\n",
      "Number of detections = 573\n",
      "Number of field data = 929\n",
      "Dilation = 0.0011000000000000003\n",
      "====================\n",
      "Number of detections = 687\n",
      "Number of field data = 929\n",
      "Dilation = 0.0012000000000000003\n",
      "====================\n",
      "Number of detections = 735\n",
      "Number of field data = 929\n",
      "Dilation = 0.0013000000000000004\n",
      "====================\n",
      "Number of detections = 739\n",
      "Number of field data = 929\n",
      "Dilation = 0.0014000000000000004\n",
      "====================\n",
      "Number of detections = 932\n",
      "Number of field data = 929\n",
      "Number of detection: 929\n",
      "Number of field data measurements: 929\n",
      "Number of unique matches: 929\n",
      "Matching on: Manuel Macias RGB\n",
      "Dilation = 0.0001\n",
      "====================\n",
      "Number of detections = 209\n",
      "Number of field data = 484\n",
      "Dilation = 0.0002\n",
      "====================\n",
      "Number of detections = 423\n",
      "Number of field data = 484\n",
      "Dilation = 0.00030000000000000003\n",
      "====================\n",
      "Number of detections = 668\n",
      "Number of field data = 484\n",
      "Number of detection: 484\n",
      "Number of field data measurements: 484\n",
      "Number of unique matches: 484\n"
     ]
    }
   ],
   "source": [
    "use_out_of_site_filter = True\n",
    "mu = 0.5\n",
    "greedy = True\n",
    "\n",
    "matched_detections = []\n",
    "for orthomosaic_name in orthomosaic_names:\n",
    "    print(f\"Matching on: {orthomosaic_name}\")\n",
    "    cur_field_data, cur_detections = load_field_data_and_deepforest_detections(orthomosaic_name)\n",
    "    if use_out_of_site_filter:\n",
    "        cur_detections = filter_out_of_site_detections(cur_field_data, cur_detections, ortho_gps, orthomosaic_name)\n",
    "    matched_detections.extend(match_field_data_and_detections(cur_detections, cur_field_data, mu, greedy))\n"
   ]
  },
  {
   "cell_type": "markdown",
   "metadata": {},
   "source": [
    "Save matches"
   ]
  },
  {
   "cell_type": "code",
   "execution_count": 12,
   "metadata": {},
   "outputs": [],
   "source": [
    "matched_detections_df = pd.DataFrame.from_dict([MatchedFieldData.to_dict(d) for d in matched_detections])\n",
    "csv_filename = \"reproduced_final_matching.csv\"\n",
    "csv_filepath = os.path.join(OUTPUT_DIR, csv_filename)\n",
    "matched_detections_df.to_csv(csv_filepath)"
   ]
  },
  {
   "cell_type": "code",
   "execution_count": null,
   "metadata": {},
   "outputs": [],
   "source": []
  }
 ],
 "metadata": {
  "kernelspec": {
   "display_name": "Python 3.8.10 ('venv': venv)",
   "language": "python",
   "name": "python3"
  },
  "language_info": {
   "codemirror_mode": {
    "name": "ipython",
    "version": 3
   },
   "file_extension": ".py",
   "mimetype": "text/x-python",
   "name": "python",
   "nbconvert_exporter": "python",
   "pygments_lexer": "ipython3",
   "version": "3.8.10"
  },
  "orig_nbformat": 4,
  "vscode": {
   "interpreter": {
    "hash": "38bcfb928ee257fc0fcb731813b971209547b0ff47e72973d8fb6a9e7738fb5a"
   }
  }
 },
 "nbformat": 4,
 "nbformat_minor": 2
}
